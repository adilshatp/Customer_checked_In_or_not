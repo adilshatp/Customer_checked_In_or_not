{
 "cells": [
  {
   "cell_type": "code",
   "execution_count": 1,
   "id": "6c142b85",
   "metadata": {},
   "outputs": [],
   "source": [
    "import pandas as pd\n",
    "import numpy as np\n",
    "import seaborn as sns\n",
    "import matplotlib.pyplot as plt\n",
    "import warnings\n",
    "warnings.filterwarnings(\"ignore\")"
   ]
  },
  {
   "cell_type": "code",
   "execution_count": 2,
   "id": "1729d2b6",
   "metadata": {},
   "outputs": [
    {
     "ename": "FileNotFoundError",
     "evalue": "[Errno 2] No such file or directory: 'train_data_evaluation_part_2.csv'",
     "output_type": "error",
     "traceback": [
      "\u001b[1;31m---------------------------------------------------------------------------\u001b[0m",
      "\u001b[1;31mFileNotFoundError\u001b[0m                         Traceback (most recent call last)",
      "\u001b[1;32m~\\AppData\\Local\\Temp/ipykernel_15348/3462109827.py\u001b[0m in \u001b[0;36m<module>\u001b[1;34m\u001b[0m\n\u001b[1;32m----> 1\u001b[1;33m \u001b[0mdf_train\u001b[0m\u001b[1;33m=\u001b[0m\u001b[0mpd\u001b[0m\u001b[1;33m.\u001b[0m\u001b[0mread_csv\u001b[0m\u001b[1;33m(\u001b[0m\u001b[1;34m\"train_data_evaluation_part_2.csv\"\u001b[0m\u001b[1;33m)\u001b[0m\u001b[1;33m\u001b[0m\u001b[1;33m\u001b[0m\u001b[0m\n\u001b[0m\u001b[0;32m      2\u001b[0m \u001b[0mdf_train\u001b[0m\u001b[1;33m.\u001b[0m\u001b[0mhead\u001b[0m\u001b[1;33m(\u001b[0m\u001b[1;33m)\u001b[0m\u001b[1;33m\u001b[0m\u001b[1;33m\u001b[0m\u001b[0m\n",
      "\u001b[1;32m~\\anaconda3\\lib\\site-packages\\pandas\\util\\_decorators.py\u001b[0m in \u001b[0;36mwrapper\u001b[1;34m(*args, **kwargs)\u001b[0m\n\u001b[0;32m    309\u001b[0m                     \u001b[0mstacklevel\u001b[0m\u001b[1;33m=\u001b[0m\u001b[0mstacklevel\u001b[0m\u001b[1;33m,\u001b[0m\u001b[1;33m\u001b[0m\u001b[1;33m\u001b[0m\u001b[0m\n\u001b[0;32m    310\u001b[0m                 )\n\u001b[1;32m--> 311\u001b[1;33m             \u001b[1;32mreturn\u001b[0m \u001b[0mfunc\u001b[0m\u001b[1;33m(\u001b[0m\u001b[1;33m*\u001b[0m\u001b[0margs\u001b[0m\u001b[1;33m,\u001b[0m \u001b[1;33m**\u001b[0m\u001b[0mkwargs\u001b[0m\u001b[1;33m)\u001b[0m\u001b[1;33m\u001b[0m\u001b[1;33m\u001b[0m\u001b[0m\n\u001b[0m\u001b[0;32m    312\u001b[0m \u001b[1;33m\u001b[0m\u001b[0m\n\u001b[0;32m    313\u001b[0m         \u001b[1;32mreturn\u001b[0m \u001b[0mwrapper\u001b[0m\u001b[1;33m\u001b[0m\u001b[1;33m\u001b[0m\u001b[0m\n",
      "\u001b[1;32m~\\anaconda3\\lib\\site-packages\\pandas\\io\\parsers\\readers.py\u001b[0m in \u001b[0;36mread_csv\u001b[1;34m(filepath_or_buffer, sep, delimiter, header, names, index_col, usecols, squeeze, prefix, mangle_dupe_cols, dtype, engine, converters, true_values, false_values, skipinitialspace, skiprows, skipfooter, nrows, na_values, keep_default_na, na_filter, verbose, skip_blank_lines, parse_dates, infer_datetime_format, keep_date_col, date_parser, dayfirst, cache_dates, iterator, chunksize, compression, thousands, decimal, lineterminator, quotechar, quoting, doublequote, escapechar, comment, encoding, encoding_errors, dialect, error_bad_lines, warn_bad_lines, on_bad_lines, delim_whitespace, low_memory, memory_map, float_precision, storage_options)\u001b[0m\n\u001b[0;32m    584\u001b[0m     \u001b[0mkwds\u001b[0m\u001b[1;33m.\u001b[0m\u001b[0mupdate\u001b[0m\u001b[1;33m(\u001b[0m\u001b[0mkwds_defaults\u001b[0m\u001b[1;33m)\u001b[0m\u001b[1;33m\u001b[0m\u001b[1;33m\u001b[0m\u001b[0m\n\u001b[0;32m    585\u001b[0m \u001b[1;33m\u001b[0m\u001b[0m\n\u001b[1;32m--> 586\u001b[1;33m     \u001b[1;32mreturn\u001b[0m \u001b[0m_read\u001b[0m\u001b[1;33m(\u001b[0m\u001b[0mfilepath_or_buffer\u001b[0m\u001b[1;33m,\u001b[0m \u001b[0mkwds\u001b[0m\u001b[1;33m)\u001b[0m\u001b[1;33m\u001b[0m\u001b[1;33m\u001b[0m\u001b[0m\n\u001b[0m\u001b[0;32m    587\u001b[0m \u001b[1;33m\u001b[0m\u001b[0m\n\u001b[0;32m    588\u001b[0m \u001b[1;33m\u001b[0m\u001b[0m\n",
      "\u001b[1;32m~\\anaconda3\\lib\\site-packages\\pandas\\io\\parsers\\readers.py\u001b[0m in \u001b[0;36m_read\u001b[1;34m(filepath_or_buffer, kwds)\u001b[0m\n\u001b[0;32m    480\u001b[0m \u001b[1;33m\u001b[0m\u001b[0m\n\u001b[0;32m    481\u001b[0m     \u001b[1;31m# Create the parser.\u001b[0m\u001b[1;33m\u001b[0m\u001b[1;33m\u001b[0m\u001b[0m\n\u001b[1;32m--> 482\u001b[1;33m     \u001b[0mparser\u001b[0m \u001b[1;33m=\u001b[0m \u001b[0mTextFileReader\u001b[0m\u001b[1;33m(\u001b[0m\u001b[0mfilepath_or_buffer\u001b[0m\u001b[1;33m,\u001b[0m \u001b[1;33m**\u001b[0m\u001b[0mkwds\u001b[0m\u001b[1;33m)\u001b[0m\u001b[1;33m\u001b[0m\u001b[1;33m\u001b[0m\u001b[0m\n\u001b[0m\u001b[0;32m    483\u001b[0m \u001b[1;33m\u001b[0m\u001b[0m\n\u001b[0;32m    484\u001b[0m     \u001b[1;32mif\u001b[0m \u001b[0mchunksize\u001b[0m \u001b[1;32mor\u001b[0m \u001b[0miterator\u001b[0m\u001b[1;33m:\u001b[0m\u001b[1;33m\u001b[0m\u001b[1;33m\u001b[0m\u001b[0m\n",
      "\u001b[1;32m~\\anaconda3\\lib\\site-packages\\pandas\\io\\parsers\\readers.py\u001b[0m in \u001b[0;36m__init__\u001b[1;34m(self, f, engine, **kwds)\u001b[0m\n\u001b[0;32m    809\u001b[0m             \u001b[0mself\u001b[0m\u001b[1;33m.\u001b[0m\u001b[0moptions\u001b[0m\u001b[1;33m[\u001b[0m\u001b[1;34m\"has_index_names\"\u001b[0m\u001b[1;33m]\u001b[0m \u001b[1;33m=\u001b[0m \u001b[0mkwds\u001b[0m\u001b[1;33m[\u001b[0m\u001b[1;34m\"has_index_names\"\u001b[0m\u001b[1;33m]\u001b[0m\u001b[1;33m\u001b[0m\u001b[1;33m\u001b[0m\u001b[0m\n\u001b[0;32m    810\u001b[0m \u001b[1;33m\u001b[0m\u001b[0m\n\u001b[1;32m--> 811\u001b[1;33m         \u001b[0mself\u001b[0m\u001b[1;33m.\u001b[0m\u001b[0m_engine\u001b[0m \u001b[1;33m=\u001b[0m \u001b[0mself\u001b[0m\u001b[1;33m.\u001b[0m\u001b[0m_make_engine\u001b[0m\u001b[1;33m(\u001b[0m\u001b[0mself\u001b[0m\u001b[1;33m.\u001b[0m\u001b[0mengine\u001b[0m\u001b[1;33m)\u001b[0m\u001b[1;33m\u001b[0m\u001b[1;33m\u001b[0m\u001b[0m\n\u001b[0m\u001b[0;32m    812\u001b[0m \u001b[1;33m\u001b[0m\u001b[0m\n\u001b[0;32m    813\u001b[0m     \u001b[1;32mdef\u001b[0m \u001b[0mclose\u001b[0m\u001b[1;33m(\u001b[0m\u001b[0mself\u001b[0m\u001b[1;33m)\u001b[0m\u001b[1;33m:\u001b[0m\u001b[1;33m\u001b[0m\u001b[1;33m\u001b[0m\u001b[0m\n",
      "\u001b[1;32m~\\anaconda3\\lib\\site-packages\\pandas\\io\\parsers\\readers.py\u001b[0m in \u001b[0;36m_make_engine\u001b[1;34m(self, engine)\u001b[0m\n\u001b[0;32m   1038\u001b[0m             )\n\u001b[0;32m   1039\u001b[0m         \u001b[1;31m# error: Too many arguments for \"ParserBase\"\u001b[0m\u001b[1;33m\u001b[0m\u001b[1;33m\u001b[0m\u001b[0m\n\u001b[1;32m-> 1040\u001b[1;33m         \u001b[1;32mreturn\u001b[0m \u001b[0mmapping\u001b[0m\u001b[1;33m[\u001b[0m\u001b[0mengine\u001b[0m\u001b[1;33m]\u001b[0m\u001b[1;33m(\u001b[0m\u001b[0mself\u001b[0m\u001b[1;33m.\u001b[0m\u001b[0mf\u001b[0m\u001b[1;33m,\u001b[0m \u001b[1;33m**\u001b[0m\u001b[0mself\u001b[0m\u001b[1;33m.\u001b[0m\u001b[0moptions\u001b[0m\u001b[1;33m)\u001b[0m  \u001b[1;31m# type: ignore[call-arg]\u001b[0m\u001b[1;33m\u001b[0m\u001b[1;33m\u001b[0m\u001b[0m\n\u001b[0m\u001b[0;32m   1041\u001b[0m \u001b[1;33m\u001b[0m\u001b[0m\n\u001b[0;32m   1042\u001b[0m     \u001b[1;32mdef\u001b[0m \u001b[0m_failover_to_python\u001b[0m\u001b[1;33m(\u001b[0m\u001b[0mself\u001b[0m\u001b[1;33m)\u001b[0m\u001b[1;33m:\u001b[0m\u001b[1;33m\u001b[0m\u001b[1;33m\u001b[0m\u001b[0m\n",
      "\u001b[1;32m~\\anaconda3\\lib\\site-packages\\pandas\\io\\parsers\\c_parser_wrapper.py\u001b[0m in \u001b[0;36m__init__\u001b[1;34m(self, src, **kwds)\u001b[0m\n\u001b[0;32m     49\u001b[0m \u001b[1;33m\u001b[0m\u001b[0m\n\u001b[0;32m     50\u001b[0m         \u001b[1;31m# open handles\u001b[0m\u001b[1;33m\u001b[0m\u001b[1;33m\u001b[0m\u001b[0m\n\u001b[1;32m---> 51\u001b[1;33m         \u001b[0mself\u001b[0m\u001b[1;33m.\u001b[0m\u001b[0m_open_handles\u001b[0m\u001b[1;33m(\u001b[0m\u001b[0msrc\u001b[0m\u001b[1;33m,\u001b[0m \u001b[0mkwds\u001b[0m\u001b[1;33m)\u001b[0m\u001b[1;33m\u001b[0m\u001b[1;33m\u001b[0m\u001b[0m\n\u001b[0m\u001b[0;32m     52\u001b[0m         \u001b[1;32massert\u001b[0m \u001b[0mself\u001b[0m\u001b[1;33m.\u001b[0m\u001b[0mhandles\u001b[0m \u001b[1;32mis\u001b[0m \u001b[1;32mnot\u001b[0m \u001b[1;32mNone\u001b[0m\u001b[1;33m\u001b[0m\u001b[1;33m\u001b[0m\u001b[0m\n\u001b[0;32m     53\u001b[0m \u001b[1;33m\u001b[0m\u001b[0m\n",
      "\u001b[1;32m~\\anaconda3\\lib\\site-packages\\pandas\\io\\parsers\\base_parser.py\u001b[0m in \u001b[0;36m_open_handles\u001b[1;34m(self, src, kwds)\u001b[0m\n\u001b[0;32m    220\u001b[0m         \u001b[0mLet\u001b[0m \u001b[0mthe\u001b[0m \u001b[0mreaders\u001b[0m \u001b[0mopen\u001b[0m \u001b[0mIOHandles\u001b[0m \u001b[0mafter\u001b[0m \u001b[0mthey\u001b[0m \u001b[0mare\u001b[0m \u001b[0mdone\u001b[0m \u001b[1;32mwith\u001b[0m \u001b[0mtheir\u001b[0m \u001b[0mpotential\u001b[0m \u001b[0mraises\u001b[0m\u001b[1;33m.\u001b[0m\u001b[1;33m\u001b[0m\u001b[1;33m\u001b[0m\u001b[0m\n\u001b[0;32m    221\u001b[0m         \"\"\"\n\u001b[1;32m--> 222\u001b[1;33m         self.handles = get_handle(\n\u001b[0m\u001b[0;32m    223\u001b[0m             \u001b[0msrc\u001b[0m\u001b[1;33m,\u001b[0m\u001b[1;33m\u001b[0m\u001b[1;33m\u001b[0m\u001b[0m\n\u001b[0;32m    224\u001b[0m             \u001b[1;34m\"r\"\u001b[0m\u001b[1;33m,\u001b[0m\u001b[1;33m\u001b[0m\u001b[1;33m\u001b[0m\u001b[0m\n",
      "\u001b[1;32m~\\anaconda3\\lib\\site-packages\\pandas\\io\\common.py\u001b[0m in \u001b[0;36mget_handle\u001b[1;34m(path_or_buf, mode, encoding, compression, memory_map, is_text, errors, storage_options)\u001b[0m\n\u001b[0;32m    700\u001b[0m         \u001b[1;32mif\u001b[0m \u001b[0mioargs\u001b[0m\u001b[1;33m.\u001b[0m\u001b[0mencoding\u001b[0m \u001b[1;32mand\u001b[0m \u001b[1;34m\"b\"\u001b[0m \u001b[1;32mnot\u001b[0m \u001b[1;32min\u001b[0m \u001b[0mioargs\u001b[0m\u001b[1;33m.\u001b[0m\u001b[0mmode\u001b[0m\u001b[1;33m:\u001b[0m\u001b[1;33m\u001b[0m\u001b[1;33m\u001b[0m\u001b[0m\n\u001b[0;32m    701\u001b[0m             \u001b[1;31m# Encoding\u001b[0m\u001b[1;33m\u001b[0m\u001b[1;33m\u001b[0m\u001b[0m\n\u001b[1;32m--> 702\u001b[1;33m             handle = open(\n\u001b[0m\u001b[0;32m    703\u001b[0m                 \u001b[0mhandle\u001b[0m\u001b[1;33m,\u001b[0m\u001b[1;33m\u001b[0m\u001b[1;33m\u001b[0m\u001b[0m\n\u001b[0;32m    704\u001b[0m                 \u001b[0mioargs\u001b[0m\u001b[1;33m.\u001b[0m\u001b[0mmode\u001b[0m\u001b[1;33m,\u001b[0m\u001b[1;33m\u001b[0m\u001b[1;33m\u001b[0m\u001b[0m\n",
      "\u001b[1;31mFileNotFoundError\u001b[0m: [Errno 2] No such file or directory: 'train_data_evaluation_part_2.csv'"
     ]
    }
   ],
   "source": [
    "df_train=pd.read_csv(\"train_data_evaluation_part_2.csv\")\n",
    "df_train.head()"
   ]
  },
  {
   "cell_type": "code",
   "execution_count": null,
   "id": "14bfff7a",
   "metadata": {},
   "outputs": [],
   "source": [
    "df_test=pd.read_csv(\"test_data_evaluation_part2.csv\")\n",
    "df_test.head()"
   ]
  },
  {
   "cell_type": "code",
   "execution_count": null,
   "id": "fd73e75a",
   "metadata": {},
   "outputs": [],
   "source": [
    "pd.set_option('display.max_columns', None)\n",
    "df_train.head()"
   ]
  },
  {
   "cell_type": "code",
   "execution_count": null,
   "id": "443dd92e",
   "metadata": {},
   "outputs": [],
   "source": [
    "df_train.nunique()"
   ]
  },
  {
   "cell_type": "code",
   "execution_count": null,
   "id": "21fb90aa",
   "metadata": {},
   "outputs": [],
   "source": [
    "df_train.shape"
   ]
  },
  {
   "cell_type": "code",
   "execution_count": null,
   "id": "e8947c9f",
   "metadata": {},
   "outputs": [],
   "source": [
    "df_test.shape"
   ]
  },
  {
   "cell_type": "code",
   "execution_count": null,
   "id": "a04ee8be",
   "metadata": {},
   "outputs": [],
   "source": [
    "df_train.dtypes"
   ]
  },
  {
   "cell_type": "code",
   "execution_count": null,
   "id": "66e51ecc",
   "metadata": {},
   "outputs": [],
   "source": [
    "print(df_train.isnull().sum(),df_test.isnull().sum())"
   ]
  },
  {
   "cell_type": "code",
   "execution_count": null,
   "id": "9f977194",
   "metadata": {},
   "outputs": [],
   "source": [
    "df_train.nunique().to_frame(name = 'Number of unique values')"
   ]
  },
  {
   "cell_type": "code",
   "execution_count": null,
   "id": "2f580d12",
   "metadata": {},
   "outputs": [],
   "source": [
    "df_train.describe().T"
   ]
  },
  {
   "cell_type": "code",
   "execution_count": null,
   "id": "a6395bb7",
   "metadata": {},
   "outputs": [],
   "source": [
    "df_train.info()"
   ]
  },
  {
   "cell_type": "code",
   "execution_count": null,
   "id": "e5741f0d",
   "metadata": {},
   "outputs": [],
   "source": [
    "df_train = df_train[df_train['Age'] > 0] # Remove negative & null values\n",
    "df_train = df_train[df_train['AverageLeadTime'] >= 0] \n",
    "\n",
    "print('The total number of negative values of age is ', len(df_train[df_train['Age'] < 0]))\n",
    "print('The total number of missing values of age column is', df_train['Age'].isnull().sum())\n",
    "print('The total number of negative values of averageLeadTime is ', len(df_train[df_train['AverageLeadTime'] < 0]))\n"
   ]
  },
  {
   "cell_type": "code",
   "execution_count": null,
   "id": "0cbd9f98",
   "metadata": {},
   "outputs": [],
   "source": [
    "df_test = df_test[df_test['Age'] > 0] # Remove negative & null values\n",
    "df_test = df_test[df_test['AverageLeadTime'] >= 0] \n",
    "\n",
    "print('The total number of negative values of age is ', len(df_test[df_test['Age'] < 0]))\n",
    "print('The total number of missing values of age column is', df_test['Age'].isnull().sum())\n",
    "print('The total number of negative values of averageLeadTime is ', len(df_test[df_test['AverageLeadTime'] < 0]))\n"
   ]
  },
  {
   "cell_type": "code",
   "execution_count": null,
   "id": "d6fc3c6b",
   "metadata": {},
   "outputs": [],
   "source": [
    "df_train.isnull().sum()"
   ]
  },
  {
   "cell_type": "code",
   "execution_count": null,
   "id": "38ce332d",
   "metadata": {},
   "outputs": [],
   "source": [
    "#here we don't need id & unamed  columns becuase didn't  effect the target"
   ]
  },
  {
   "cell_type": "code",
   "execution_count": null,
   "id": "84a3ab0b",
   "metadata": {},
   "outputs": [],
   "source": [
    "df_train.drop('Unnamed: 0', inplace=True,axis =1)\n"
   ]
  },
  {
   "cell_type": "code",
   "execution_count": null,
   "id": "19376f47",
   "metadata": {},
   "outputs": [],
   "source": [
    "df_test.drop('Unnamed: 0', inplace=True,axis =1)"
   ]
  },
  {
   "cell_type": "code",
   "execution_count": null,
   "id": "adc8757d",
   "metadata": {},
   "outputs": [],
   "source": [
    "df_train.drop('ID', inplace=True,axis =1)\n",
    "df_test.drop('ID', inplace=True,axis =1)"
   ]
  },
  {
   "cell_type": "code",
   "execution_count": null,
   "id": "e318acb5",
   "metadata": {},
   "outputs": [],
   "source": [
    "df_train.head()"
   ]
  },
  {
   "cell_type": "code",
   "execution_count": null,
   "id": "0ac66878",
   "metadata": {},
   "outputs": [],
   "source": [
    "df_train['BookingsCheckedIn'].value_counts()"
   ]
  },
  {
   "cell_type": "code",
   "execution_count": null,
   "id": "8960e40a",
   "metadata": {},
   "outputs": [],
   "source": [
    "df_train[(df_train['BookingsCheckedIn']==0)|(df_train['BookingsCheckedIn']==1)].head()\n",
    "\n"
   ]
  },
  {
   "cell_type": "code",
   "execution_count": null,
   "id": "ad328699",
   "metadata": {},
   "outputs": [],
   "source": [
    "# df_train['BookingsCheckedIn'].value_counts()df_train['BookingsCheckedIn']\n",
    "\n",
    "df_train[(df_train['BookingsCheckedIn']!=0)&(df_train['BookingsCheckedIn']!=1)].head()\n"
   ]
  },
  {
   "cell_type": "code",
   "execution_count": null,
   "id": "67966017",
   "metadata": {},
   "outputs": [],
   "source": [
    "df_train[(df_train['BookingsCheckedIn']==0)].head()"
   ]
  },
  {
   "cell_type": "code",
   "execution_count": null,
   "id": "5f0839a6",
   "metadata": {},
   "outputs": [],
   "source": [
    "df_train[(df_train['BookingsCheckedIn']==1)].head()"
   ]
  },
  {
   "cell_type": "markdown",
   "id": "7d1879fe",
   "metadata": {},
   "source": [
    "# here our y(target) column is BookingsCheckedin"
   ]
  },
  {
   "cell_type": "raw",
   "id": "78e5fc8d",
   "metadata": {},
   "source": [
    "By through some research and analysis based on my understanding I conclude that the value in 'Bookings chekedin' are '1' or '0'. \n",
    "But here we have 29 unique values in this columns and classifying this values  based on other columns. All the values that are greater than and equal to'>=' one '1' belongs to checkedin one '1'. becuase wheather the value is not checkedin the other which are 'AverageLeadTime','LodgingRevenue'etc.. columns values are also 0 and in other case it all giving positive value. WE know that in this kind of situation only the possible out come is in or out(that mean two outcome).\n",
    "\n"
   ]
  },
  {
   "cell_type": "code",
   "execution_count": null,
   "id": "82e76187",
   "metadata": {},
   "outputs": [],
   "source": [
    "df_train.reset_index(drop=True,inplace=True)"
   ]
  },
  {
   "cell_type": "code",
   "execution_count": null,
   "id": "486a8232",
   "metadata": {},
   "outputs": [],
   "source": [
    "pd.DataFrame(df_train[\"BookingsCheckedIn\"]).value_counts()"
   ]
  },
  {
   "cell_type": "code",
   "execution_count": null,
   "id": "bf15d34b",
   "metadata": {},
   "outputs": [],
   "source": [
    "for i in df_train['BookingsCheckedIn']:\n",
    "    if i > 1:\n",
    "        \n",
    "        df_train['BookingsCheckedIn']==1"
   ]
  },
  {
   "cell_type": "raw",
   "id": "000f3db0",
   "metadata": {},
   "source": [
    "for i in range(len(df_train[\"BookingsCheckedIn\"])):\n",
    "               if df_train[\"BookingsCheckedIn\"][i] != 0:\n",
    "            \n",
    "                df_train[\"BookingsCheckedIn\"][i] = 1"
   ]
  },
  {
   "cell_type": "code",
   "execution_count": null,
   "id": "6bfdba60",
   "metadata": {},
   "outputs": [],
   "source": [
    "df_train[\"BookingsCheckedIn\"].value_counts()"
   ]
  },
  {
   "cell_type": "code",
   "execution_count": null,
   "id": "b1b95a73",
   "metadata": {},
   "outputs": [],
   "source": [
    "pd.DataFrame(df_train[\"BookingsCheckedIn\"]).value_counts()"
   ]
  },
  {
   "cell_type": "code",
   "execution_count": null,
   "id": "6d2d1fd3",
   "metadata": {},
   "outputs": [],
   "source": [
    "df_train[[\"BookingsCheckedIn\"]]"
   ]
  },
  {
   "cell_type": "code",
   "execution_count": null,
   "id": "cd8496fa",
   "metadata": {},
   "outputs": [],
   "source": [
    "df_train[\"BookingsCheckedIn\"][2]"
   ]
  },
  {
   "cell_type": "code",
   "execution_count": null,
   "id": "11f533c5",
   "metadata": {},
   "outputs": [],
   "source": [
    "df_train"
   ]
  },
  {
   "cell_type": "code",
   "execution_count": null,
   "id": "501a6e66",
   "metadata": {},
   "outputs": [],
   "source": [
    "plt.figure(figsize=(9,6))\n",
    "df_train['BookingsCheckedIn'].value_counts().plot(kind='pie',autopct=\"%1.1f%%\")"
   ]
  },
  {
   "cell_type": "code",
   "execution_count": null,
   "id": "fe4d12e1",
   "metadata": {},
   "outputs": [],
   "source": [
    "sns.countplot(df_train['BookingsCheckedIn'])\n",
    "plt.title('cheked in or not')\n",
    "plt.xlabel('0 & 1')\n",
    "plt.ylabel('count')\n",
    "plt.show()"
   ]
  },
  {
   "cell_type": "raw",
   "id": "b86e2f65",
   "metadata": {},
   "source": [
    "Here the data is highly imbalance ...\n",
    "\n",
    "before that we need to find important feature that effect the tagets columns & we need to convert object into interger"
   ]
  },
  {
   "cell_type": "code",
   "execution_count": null,
   "id": "99f13ec2",
   "metadata": {},
   "outputs": [],
   "source": []
  },
  {
   "cell_type": "code",
   "execution_count": null,
   "id": "6ca34866",
   "metadata": {},
   "outputs": [],
   "source": [
    "import plotly.express as px"
   ]
  },
  {
   "cell_type": "code",
   "execution_count": null,
   "id": "70e40796",
   "metadata": {},
   "outputs": [],
   "source": [
    "nat = df_train['Nationality'].value_counts().head(15)\n",
    "fig = px.pie( values = nat.values,names=nat.keys(), title='Distributoion of Nationalities')\n",
    "fig.show() #top 15 nationalities"
   ]
  },
  {
   "cell_type": "code",
   "execution_count": null,
   "id": "ca402825",
   "metadata": {},
   "outputs": [],
   "source": [
    "num_of_countries = df_train['Nationality'].nunique()\n",
    "print('The number of nationalities before preprocessing is %s' %num_of_countries)"
   ]
  },
  {
   "cell_type": "code",
   "execution_count": null,
   "id": "462924c8",
   "metadata": {},
   "outputs": [],
   "source": [
    "# Remove outliars\n",
    "df_train = df_train[df_train['Age'] < 100]"
   ]
  },
  {
   "cell_type": "code",
   "execution_count": null,
   "id": "192a66ce",
   "metadata": {},
   "outputs": [],
   "source": [
    "# Remove unimportant nationalities \n",
    "names = df_train.groupby('Nationality').count().sort_values(by = 'Age', ascending = False)\n",
    "top_15_nationalities = list(names[names['Age'] < 1000]['Age'].keys())\n",
    "\n",
    "for i in top_15_nationalities:\n",
    "    df_train['Nationality'] = df_train['Nationality'].str.replace(i,\"other\")\n",
    "    \n",
    "print('The number of nationalities after preprocessing is %s' %df_train['Nationality'].nunique())"
   ]
  },
  {
   "cell_type": "code",
   "execution_count": null,
   "id": "608bbc30",
   "metadata": {},
   "outputs": [],
   "source": []
  },
  {
   "cell_type": "code",
   "execution_count": null,
   "id": "d7703a52",
   "metadata": {},
   "outputs": [],
   "source": [
    "df_train['Nationality'].value_counts()"
   ]
  },
  {
   "cell_type": "code",
   "execution_count": null,
   "id": "0527dde3",
   "metadata": {},
   "outputs": [],
   "source": [
    "# Remove outliars\n",
    "df_test = df_test[df_test['Age'] < 100]"
   ]
  },
  {
   "cell_type": "code",
   "execution_count": null,
   "id": "d1aa01ea",
   "metadata": {},
   "outputs": [],
   "source": [
    "\n",
    "# Remove unimportant nationalities \n",
    "names = df_test.groupby('Nationality').count().sort_values(by = 'Age', ascending = False)\n",
    "top_15_nationalities = list(names[names['Age'] < 1000]['Age'].keys())\n",
    "\n",
    "for i in top_15_nationalities:\n",
    "    df_test['Nationality'] = df_test['Nationality'].str.replace(i,'')\n",
    "    \n",
    "print('The number of nationalities after preprocessing is %s' %df_test['Nationality'].nunique())\n"
   ]
  },
  {
   "cell_type": "code",
   "execution_count": null,
   "id": "8eb9db2a",
   "metadata": {},
   "outputs": [],
   "source": [
    "print(df_test['Nationality'].value_counts())"
   ]
  },
  {
   "cell_type": "code",
   "execution_count": null,
   "id": "50db7323",
   "metadata": {},
   "outputs": [],
   "source": [
    "# here in the test data set is very less amount of data and in the time of prediction we did't get correct so atleat we need 20% \n",
    "# -of data for prediction, so i just concat()this two data sets"
   ]
  },
  {
   "cell_type": "code",
   "execution_count": null,
   "id": "031016c6",
   "metadata": {},
   "outputs": [],
   "source": [
    "df = pd.concat([df_train, df_test])\n",
    "df"
   ]
  },
  {
   "cell_type": "code",
   "execution_count": null,
   "id": "f31e7b48",
   "metadata": {},
   "outputs": [],
   "source": [
    "df.reset_index(inplace=True)\n"
   ]
  },
  {
   "cell_type": "code",
   "execution_count": null,
   "id": "e996f866",
   "metadata": {},
   "outputs": [],
   "source": [
    "from sklearn.preprocessing import LabelEncoder\n",
    "\n",
    "le = LabelEncoder()"
   ]
  },
  {
   "cell_type": "code",
   "execution_count": null,
   "id": "273cf00c",
   "metadata": {},
   "outputs": [],
   "source": [
    "df['Nationality']=le.fit_transform(df['Nationality'])\n",
    "df['DistributionChannel']=le.fit_transform(df['DistributionChannel'])\n",
    "df['MarketSegment']=le.fit_transform(df['MarketSegment'])"
   ]
  },
  {
   "cell_type": "code",
   "execution_count": null,
   "id": "fc58f98b",
   "metadata": {},
   "outputs": [],
   "source": [
    "df.head()"
   ]
  },
  {
   "cell_type": "code",
   "execution_count": null,
   "id": "b903f3ea",
   "metadata": {},
   "outputs": [],
   "source": [
    "df = df[df['DaysSinceLastStay'] >= 0] \n",
    "df = df[df['DaysSinceFirstStay'] >= 0]\n",
    "\n",
    "\n",
    "print('The total number of negative values of DaysSinceLastStay is ', len(df[df['DaysSinceLastStay'] < 0]))\n",
    "print('The total number of missing values of DaysSinceLastStay column is', df['DaysSinceLastStay'].isnull().sum())\n",
    "print('The total number of negative values of DaysSinceFirstStay is ', len(df[df['DaysSinceFirstStay'] < 0]))\n"
   ]
  },
  {
   "cell_type": "code",
   "execution_count": null,
   "id": "c41f8ea8",
   "metadata": {},
   "outputs": [],
   "source": [
    "df.shape"
   ]
  },
  {
   "cell_type": "code",
   "execution_count": null,
   "id": "74c3d860",
   "metadata": {},
   "outputs": [],
   "source": [
    "df.nunique().to_frame(name = 'Number of unique values')"
   ]
  },
  {
   "cell_type": "code",
   "execution_count": null,
   "id": "4533dfec",
   "metadata": {},
   "outputs": [],
   "source": [
    "\n",
    "#outlier\n",
    "\n",
    "df.boxplot(figsize=(10,6))"
   ]
  },
  {
   "cell_type": "code",
   "execution_count": null,
   "id": "712bf8a1",
   "metadata": {},
   "outputs": [],
   "source": [
    "plt.figure(figsize=(16,5))\n",
    "plt.subplot(1,2,1)\n",
    "sns.distplot(df['OtherRevenue'])\n",
    "plt.subplot(1,2,2)\n",
    "sns.distplot(df['LodgingRevenue'])"
   ]
  },
  {
   "cell_type": "code",
   "execution_count": null,
   "id": "87f6e392",
   "metadata": {},
   "outputs": [],
   "source": [
    "plt.figure(figsize=(16,5))\n",
    "plt.subplot(1,2,1)\n",
    "sns.distplot(df['Age'])\n",
    "plt.show()"
   ]
  },
  {
   "cell_type": "code",
   "execution_count": null,
   "id": "9d23139e",
   "metadata": {},
   "outputs": [],
   "source": [
    "plt.figure(figsize=(16,5))\n",
    "plt.subplot(1,2,1)\n",
    "sns.distplot(df['DaysSinceLastStay'])\n",
    "plt.subplot(1,2,2)\n",
    "sns.distplot(df['DaysSinceFirstStay'])"
   ]
  },
  {
   "cell_type": "code",
   "execution_count": null,
   "id": "96ae0a52",
   "metadata": {},
   "outputs": [],
   "source": []
  },
  {
   "cell_type": "markdown",
   "id": "59e79da9",
   "metadata": {},
   "source": [
    "# model building"
   ]
  },
  {
   "cell_type": "code",
   "execution_count": null,
   "id": "8ec433d7",
   "metadata": {},
   "outputs": [],
   "source": [
    "x=df.drop(df[['index','BookingsCheckedIn']],axis=1)\n",
    "x"
   ]
  },
  {
   "cell_type": "code",
   "execution_count": null,
   "id": "9c03454e",
   "metadata": {},
   "outputs": [],
   "source": [
    "y=df['BookingsCheckedIn']\n"
   ]
  },
  {
   "cell_type": "code",
   "execution_count": null,
   "id": "2dfc78d4",
   "metadata": {},
   "outputs": [],
   "source": [
    "y=pd.DataFrame(y)\n"
   ]
  },
  {
   "cell_type": "code",
   "execution_count": null,
   "id": "d9691626",
   "metadata": {},
   "outputs": [],
   "source": [
    "x=pd.DataFrame(x)"
   ]
  },
  {
   "cell_type": "code",
   "execution_count": null,
   "id": "32599b82",
   "metadata": {},
   "outputs": [],
   "source": [
    "x"
   ]
  },
  {
   "cell_type": "code",
   "execution_count": null,
   "id": "97ebf9a5",
   "metadata": {},
   "outputs": [],
   "source": [
    "y"
   ]
  },
  {
   "cell_type": "code",
   "execution_count": null,
   "id": "f1baf47c",
   "metadata": {},
   "outputs": [],
   "source": [
    "x.shape,y.shape"
   ]
  },
  {
   "cell_type": "code",
   "execution_count": null,
   "id": "66f214e2",
   "metadata": {},
   "outputs": [],
   "source": [
    "from sklearn.model_selection import train_test_split\n",
    "x_train,x_test,y_train,y_test=train_test_split(x,y,test_size=0.15,random_state=133)"
   ]
  },
  {
   "cell_type": "code",
   "execution_count": null,
   "id": "700f7f75",
   "metadata": {},
   "outputs": [],
   "source": [
    "plt.figure(figsize=(26,20))\n",
    "sns.heatmap(df.corr(),cmap=plt.cm.CMRmap_r,annot=True)"
   ]
  },
  {
   "cell_type": "code",
   "execution_count": null,
   "id": "2f8aa0d8",
   "metadata": {},
   "outputs": [],
   "source": [
    "plt.figure(figsize=(26,20))\n",
    "sns.heatmap(x_train.corr(),cmap=plt.cm.CMRmap_r,annot=True)"
   ]
  },
  {
   "cell_type": "code",
   "execution_count": null,
   "id": "64649733",
   "metadata": {},
   "outputs": [],
   "source": [
    "def correlation(dataset, threshold):\n",
    "    col_corr = set()\n",
    "    corr_matrix = dataset.corr()\n",
    "    for i in range(len(corr_matrix.columns)):\n",
    "        for j in range(i):\n",
    "            if abs(corr_matrix.iloc[i,j]) > threshold:\n",
    "                colname = corr_matrix.columns[i]\n",
    "                col_corr.add(colname)\n",
    "    return col_corr"
   ]
  },
  {
   "cell_type": "code",
   "execution_count": null,
   "id": "41232422",
   "metadata": {},
   "outputs": [],
   "source": [
    "corr_features = correlation(x_train,0.7)\n",
    "len(set(corr_features))"
   ]
  },
  {
   "cell_type": "code",
   "execution_count": null,
   "id": "6e33302a",
   "metadata": {},
   "outputs": [],
   "source": [
    "corr_features"
   ]
  },
  {
   "cell_type": "code",
   "execution_count": null,
   "id": "0622bde5",
   "metadata": {},
   "outputs": [],
   "source": [
    "#here we are drop the columns which are highly depend each other"
   ]
  },
  {
   "cell_type": "code",
   "execution_count": null,
   "id": "1e6c960c",
   "metadata": {},
   "outputs": [],
   "source": [
    "x_train.drop(corr_features,axis=1,inplace=True)\n",
    "x_test.drop(corr_features,axis=1,inplace=True)"
   ]
  },
  {
   "cell_type": "code",
   "execution_count": null,
   "id": "be9944f8",
   "metadata": {},
   "outputs": [],
   "source": [
    "x_train.head()"
   ]
  },
  {
   "cell_type": "code",
   "execution_count": null,
   "id": "1590a94b",
   "metadata": {},
   "outputs": [],
   "source": [
    "x_train.shape,x_test.shape"
   ]
  },
  {
   "cell_type": "code",
   "execution_count": null,
   "id": "32605115",
   "metadata": {},
   "outputs": [],
   "source": [
    "y_train.shape,y_test.shape\n"
   ]
  },
  {
   "cell_type": "code",
   "execution_count": null,
   "id": "b1e0175c",
   "metadata": {},
   "outputs": [],
   "source": [
    "x_train.reset_index(drop=True,inplace=True)\n",
    "y_train.reset_index(drop=True,inplace=True)\n"
   ]
  },
  {
   "cell_type": "code",
   "execution_count": null,
   "id": "742b0392",
   "metadata": {},
   "outputs": [],
   "source": [
    "x_train.head()"
   ]
  },
  {
   "cell_type": "code",
   "execution_count": null,
   "id": "eda34257",
   "metadata": {},
   "outputs": [],
   "source": [
    "y_train.head()"
   ]
  },
  {
   "cell_type": "code",
   "execution_count": null,
   "id": "c9019d49",
   "metadata": {},
   "outputs": [],
   "source": [
    "import tensorflow as tf\n",
    "from tensorflow.keras import datasets,layers,models"
   ]
  },
  {
   "cell_type": "code",
   "execution_count": null,
   "id": "ba8c40f7",
   "metadata": {},
   "outputs": [],
   "source": [
    "ann = models.Sequential([\n",
    "    layers.Dense(16,input_dim = 23, activation = \"relu\"),\n",
    "    layers.Dense(32, activation = \"relu\"),\n",
    "    layers.Dense(1,activation=\"sigmoid\")\n",
    "])\n"
   ]
  },
  {
   "cell_type": "code",
   "execution_count": null,
   "id": "dcc6c92f",
   "metadata": {},
   "outputs": [],
   "source": [
    "ann.compile(optimizer=\"adam\",loss=\"binary_crossentropy\", metrics=\"accuracy\")"
   ]
  },
  {
   "cell_type": "code",
   "execution_count": null,
   "id": "d3fee3d7",
   "metadata": {},
   "outputs": [],
   "source": [
    "ann.fit(x_train,y_train,batch_size=51599,epochs=300,)"
   ]
  },
  {
   "cell_type": "code",
   "execution_count": null,
   "id": "70904aad",
   "metadata": {},
   "outputs": [],
   "source": [
    "ann.evaluate(x_test,y_test)"
   ]
  },
  {
   "cell_type": "code",
   "execution_count": null,
   "id": "04739f7e",
   "metadata": {},
   "outputs": [],
   "source": []
  },
  {
   "cell_type": "code",
   "execution_count": null,
   "id": "72d21d3c",
   "metadata": {},
   "outputs": [],
   "source": [
    "from keras.models import load_model\n",
    "ann.save(\"customer_checkedin.h5\")"
   ]
  },
  {
   "cell_type": "code",
   "execution_count": null,
   "id": "d1c08b65",
   "metadata": {},
   "outputs": [],
   "source": []
  },
  {
   "cell_type": "code",
   "execution_count": null,
   "id": "b2e854b3",
   "metadata": {},
   "outputs": [],
   "source": []
  },
  {
   "cell_type": "code",
   "execution_count": null,
   "id": "22dfd72f",
   "metadata": {},
   "outputs": [],
   "source": []
  },
  {
   "cell_type": "code",
   "execution_count": null,
   "id": "53be0a7b",
   "metadata": {},
   "outputs": [],
   "source": []
  },
  {
   "cell_type": "code",
   "execution_count": null,
   "id": "c387a72c",
   "metadata": {},
   "outputs": [],
   "source": []
  },
  {
   "cell_type": "code",
   "execution_count": null,
   "id": "6a1a1fa9",
   "metadata": {},
   "outputs": [],
   "source": []
  },
  {
   "cell_type": "code",
   "execution_count": null,
   "id": "78970b33",
   "metadata": {},
   "outputs": [],
   "source": []
  },
  {
   "cell_type": "code",
   "execution_count": null,
   "id": "a8d979ba",
   "metadata": {},
   "outputs": [],
   "source": []
  },
  {
   "cell_type": "code",
   "execution_count": null,
   "id": "5d7b765c",
   "metadata": {},
   "outputs": [],
   "source": []
  },
  {
   "cell_type": "code",
   "execution_count": null,
   "id": "452c77aa",
   "metadata": {},
   "outputs": [],
   "source": []
  },
  {
   "cell_type": "code",
   "execution_count": null,
   "id": "d9bc7304",
   "metadata": {},
   "outputs": [],
   "source": []
  },
  {
   "cell_type": "code",
   "execution_count": null,
   "id": "4056ea21",
   "metadata": {},
   "outputs": [],
   "source": []
  },
  {
   "cell_type": "code",
   "execution_count": null,
   "id": "b5b15a81",
   "metadata": {},
   "outputs": [],
   "source": []
  },
  {
   "cell_type": "code",
   "execution_count": null,
   "id": "bc1fbf71",
   "metadata": {},
   "outputs": [],
   "source": []
  },
  {
   "cell_type": "code",
   "execution_count": null,
   "id": "d8920b73",
   "metadata": {},
   "outputs": [],
   "source": []
  },
  {
   "cell_type": "code",
   "execution_count": null,
   "id": "6c5ec63c",
   "metadata": {},
   "outputs": [],
   "source": []
  },
  {
   "cell_type": "code",
   "execution_count": null,
   "id": "d48864b6",
   "metadata": {},
   "outputs": [],
   "source": []
  }
 ],
 "metadata": {
  "kernelspec": {
   "display_name": "Python 3 (ipykernel)",
   "language": "python",
   "name": "python3"
  },
  "language_info": {
   "codemirror_mode": {
    "name": "ipython",
    "version": 3
   },
   "file_extension": ".py",
   "mimetype": "text/x-python",
   "name": "python",
   "nbconvert_exporter": "python",
   "pygments_lexer": "ipython3",
   "version": "3.9.7"
  }
 },
 "nbformat": 4,
 "nbformat_minor": 5
}
