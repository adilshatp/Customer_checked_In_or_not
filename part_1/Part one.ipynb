{
 "cells": [
  {
   "cell_type": "code",
   "execution_count": 3,
   "id": "3123c1cd",
   "metadata": {},
   "outputs": [],
   "source": [
    "c={\"orders\":[{\"id\":1},{\"id\":2},{\"id\":3},{\"id\":4},{\"id\":5},{\"id\":6},{\"id\":7},{\"id\":8},{\"id\":9},{\"id\":10},{\"id\":11},{\"id\":648},{\"id\":649},{\"id\":650},{\"id\":651},{\"id\":652},{\"id\":653}],\"errors\":[{\"code\":3,\"message\":\"[PHP Warning #2] count(): Parameter must be an array or an object that implements Countable (153)\"}]}\n"
   ]
  },
  {
   "cell_type": "code",
   "execution_count": 5,
   "id": "ad643ae3",
   "metadata": {},
   "outputs": [],
   "source": [
    "m = []\n",
    "for i in c.values():\n",
    "    \n",
    "    for j in i:\n",
    "        \n",
    "        for k in j.values():\n",
    "                \n",
    "            if type(k) == int:\n",
    "                \n",
    "                m.append(k)"
   ]
  },
  {
   "cell_type": "code",
   "execution_count": 12,
   "id": "eff49adc",
   "metadata": {},
   "outputs": [
    {
     "name": "stdout",
     "output_type": "stream",
     "text": [
      "the extract values are [1, 2, 3, 4, 5, 6, 7, 8, 9, 10, 11, 648, 649, 650, 651, 652, 653, 3]\n"
     ]
    }
   ],
   "source": [
    "print(\"the extract values are %s\"%m)"
   ]
  },
  {
   "cell_type": "code",
   "execution_count": null,
   "id": "f71d61cf",
   "metadata": {},
   "outputs": [],
   "source": []
  },
  {
   "cell_type": "code",
   "execution_count": null,
   "id": "3cb2e648",
   "metadata": {},
   "outputs": [],
   "source": []
  }
 ],
 "metadata": {
  "kernelspec": {
   "display_name": "Python 3 (ipykernel)",
   "language": "python",
   "name": "python3"
  },
  "language_info": {
   "codemirror_mode": {
    "name": "ipython",
    "version": 3
   },
   "file_extension": ".py",
   "mimetype": "text/x-python",
   "name": "python",
   "nbconvert_exporter": "python",
   "pygments_lexer": "ipython3",
   "version": "3.9.7"
  }
 },
 "nbformat": 4,
 "nbformat_minor": 5
}
